{
 "cells": [
  {
   "cell_type": "markdown",
   "metadata": {
    "colab_type": "text",
    "id": "Pcz4Lle1_Mfl"
   },
   "source": [
    "# **Python Database access and manipulation for shelter database**\n",
    "*Author Het Thakkar*"
   ]
  },
  {
   "cell_type": "code",
   "execution_count": null,
   "metadata": {
    "colab": {},
    "colab_type": "code",
    "id": "DoaDILDp_Mfo"
   },
   "outputs": [],
   "source": [
    "import pandas as pd\n",
    "\n",
    "# !conda install psycopg2\n",
    "# !pip install psycopg2\n",
    "import numpy as np\n",
    "import psycopg2 as db\n",
    "import csv"
   ]
  },
  {
   "cell_type": "code",
   "execution_count": null,
   "metadata": {},
   "outputs": [],
   "source": [
    "database = 'YOUR_DATABASE_NAME'\n",
    "user = 'YOUR_USER_NAME'\n",
    "password = 'YOUR__PASSWORD'\n",
    "host = '127.0.0.1'\n",
    "port = '5432'\n",
    "\n",
    "schema = 'YOUR_SCHEMA_NAME'"
   ]
  },
  {
   "cell_type": "code",
   "execution_count": null,
   "metadata": {
    "colab": {},
    "colab_type": "code",
    "id": "zXVTBn5f_Mfz"
   },
   "outputs": [],
   "source": [
    "conn = db.connect(database = database, user = user, password = password, host = host, port = port)"
   ]
  },
  {
   "cell_type": "markdown",
   "metadata": {
    "colab_type": "text",
    "id": "YgeVjumi_Mf2"
   },
   "source": [
    "**Run the following cell if you have transaction issues**"
   ]
  },
  {
   "cell_type": "code",
   "execution_count": null,
   "metadata": {
    "colab": {},
    "colab_type": "code",
    "id": "1VgS24vv_Mf4"
   },
   "outputs": [],
   "source": [
    "conn.rollback()"
   ]
  },
  {
   "cell_type": "markdown",
   "metadata": {
    "colab_type": "text",
    "id": "JhmRBA29_Mf8"
   },
   "source": [
    "Get cursor object and set search path"
   ]
  },
  {
   "cell_type": "code",
   "execution_count": null,
   "metadata": {
    "colab": {},
    "colab_type": "code",
    "id": "DK4uKGKC_Mf9"
   },
   "outputs": [],
   "source": [
    "cur = conn.cursor()\n",
    "\n",
    "cur.execute('Set search_path to ' + schema)\n"
   ]
  },
  {
   "cell_type": "markdown",
   "metadata": {},
   "source": [
    "Get number of tables in schema"
   ]
  },
  {
   "cell_type": "code",
   "execution_count": null,
   "metadata": {},
   "outputs": [],
   "source": [
    "cur.execute('SELECT count(*) FROM pg_catalog.pg_tables where schemaname=\\''+schema+'\\';')\n",
    "\n",
    "ntables = int(cur.fetchall()[0][0])\n",
    "\n",
    "print(ntables)"
   ]
  },
  {
   "cell_type": "code",
   "execution_count": null,
   "metadata": {
    "colab": {},
    "colab_type": "code",
    "id": "KvvJvzz8_MgA"
   },
   "outputs": [],
   "source": [
    "cur.execute('SELECT tablename FROM pg_catalog.pg_tables where schemaname=\\''+schema+'\\';')\n",
    "tables = cur.fetchall()\n",
    "\n"
   ]
  },
  {
   "cell_type": "markdown",
   "metadata": {
    "colab_type": "text",
    "id": "U4e_sUle_MgD"
   },
   "source": [
    "Delete all rows in all tables\n"
   ]
  },
  {
   "cell_type": "code",
   "execution_count": null,
   "metadata": {
    "colab": {},
    "colab_type": "code",
    "id": "T1fnMGh0_MgE",
    "outputId": "f3856b50-3930-4094-c986-a8e6f67dcb58"
   },
   "outputs": [],
   "source": [
    "print(tables)\n",
    "\n",
    "for i in range(ntables):\n",
    "    cur.execute('truncate ' + tables[i][0] + ' cascade')\n",
    "    \n",
    "    \n",
    "conn.commit()"
   ]
  },
  {
   "cell_type": "markdown",
   "metadata": {},
   "source": [
    "Download all current tables as separate csv files"
   ]
  },
  {
   "cell_type": "code",
   "execution_count": null,
   "metadata": {},
   "outputs": [],
   "source": [
    "current_dir = !pwd\n",
    "\n",
    "for i in range(ntables):\n",
    "    with open(current_dir[0] +'\\\\DownloadFiles\\\\'+tables[i][0]+'.csv', 'w') as f:\n",
    "        cur.copy_expert(\"COPY \"+tables[i][0]+\" TO STDOUT WITH CSV HEADER\", f)\n",
    "        \n",
    "conn.commit() "
   ]
  },
  {
   "cell_type": "markdown",
   "metadata": {},
   "source": [
    "Insert into tables from CSV Files. NOTE: All csv files must be present in WD/CSV_Files with csv files corresponding to each table"
   ]
  },
  {
   "cell_type": "code",
   "execution_count": null,
   "metadata": {
    "colab": {},
    "colab_type": "code",
    "id": "dCEyhrXe_MgM"
   },
   "outputs": [],
   "source": [
    "for i in range(ntables):\n",
    "    with open('CSV_Files/' + tables[i][0] + '.csv', 'r') as f:\n",
    "        reader = csv.reader(f)\n",
    "        next(reader)  # Skip the header row.\n",
    "        for row in reader:\n",
    "            str = '(\\'' +'\\',\\''.join(row) + '\\')'\n",
    "            cur.execute(\"INSERT INTO \"+ tables[i][0] +\" VALUES \" + str)\n",
    "        \n",
    "conn.commit() "
   ]
  },
  {
   "cell_type": "markdown",
   "metadata": {},
   "source": [
    "Select statement example"
   ]
  },
  {
   "cell_type": "code",
   "execution_count": null,
   "metadata": {
    "colab": {},
    "colab_type": "code",
    "id": "omNd6uBV_MgP",
    "outputId": "28a4fd4f-e156-4d73-f2cc-31114cd852fa"
   },
   "outputs": [],
   "source": [
    "cur.execute('SELECT * FROM ' + tables[0][0])\n",
    "try:\n",
    "    rows = cur.fetchall()\n",
    "    print(rows)\n",
    "except:\n",
    "    print('Prolly nothin in selected')"
   ]
  },
  {
   "cell_type": "markdown",
   "metadata": {
    "colab_type": "text",
    "id": "7pPo2FPf_MgT"
   },
   "source": [
    "If you want to import it to a dataframe"
   ]
  },
  {
   "cell_type": "code",
   "execution_count": null,
   "metadata": {
    "colab": {},
    "colab_type": "code",
    "id": "If0dAg4I_MgU",
    "outputId": "bd9b573f-ce58-415a-9db5-b1c79d48d7df"
   },
   "outputs": [],
   "source": [
    "df = pd.read_sql_query('select * from shelter', conn)\n",
    "\n",
    "print(df)"
   ]
  },
  {
   "cell_type": "code",
   "execution_count": null,
   "metadata": {
    "colab": {},
    "colab_type": "code",
    "id": "EiAaGqEa_Mgb"
   },
   "outputs": [],
   "source": [
    "conn.commit()"
   ]
  }
 ],
 "metadata": {
  "colab": {
   "collapsed_sections": [],
   "name": "Database Insertions.ipynb",
   "provenance": [],
   "version": "0.3.2"
  },
  "kernelspec": {
   "display_name": "Python 3",
   "language": "python",
   "name": "python3"
  },
  "language_info": {
   "codemirror_mode": {
    "name": "ipython",
    "version": 3
   },
   "file_extension": ".py",
   "mimetype": "text/x-python",
   "name": "python",
   "nbconvert_exporter": "python",
   "pygments_lexer": "ipython3",
   "version": "3.6.5"
  }
 },
 "nbformat": 4,
 "nbformat_minor": 1
}
